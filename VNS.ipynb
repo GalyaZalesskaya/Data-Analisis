{
 "cells": [
  {
   "cell_type": "code",
   "execution_count": 291,
   "metadata": {},
   "outputs": [],
   "source": [
    "import pandas as pd\n",
    "import re\n",
    "import math\n",
    "import numpy as np\n",
    "import matplotlib.pyplot as plt\n",
    "import copy\n",
    "from random import shuffle,randint"
   ]
  },
  {
   "cell_type": "code",
   "execution_count": 484,
   "metadata": {},
   "outputs": [],
   "source": [
    "file = open('24x40.txt','r')\n",
    "N, M = list(map(int,file.readline().split()))\n",
    "data = []\n",
    "N1 = 0\n",
    "for i in range(N):\n",
    "    string = [0] * M\n",
    "    vehicle = list(map(int,file.readline().split()))\n",
    "    for s in vehicle[1:]:\n",
    "        string[int(s)-1] = 1\n",
    "        N1+=1\n",
    "    data.append(string)"
   ]
  },
  {
   "cell_type": "code",
   "execution_count": 480,
   "metadata": {},
   "outputs": [],
   "source": [
    "def print_matrix(mat):\n",
    "    for d in mat:\n",
    "        for c in d:\n",
    "            if c==0:\n",
    "                print(\"_\", end = ' ')\n",
    "            else:\n",
    "                print(c,  end = ' ')\n",
    "        print('\\n', end='')\n",
    "        #print(*d, end = '\\n')"
   ]
  },
  {
   "cell_type": "code",
   "execution_count": 481,
   "metadata": {},
   "outputs": [
    {
     "name": "stdout",
     "output_type": "stream",
     "text": [
      "_ _ _ _ _ _ _ _ 1 _ _ _ _ _ _ _ 1 _ 1 _ _ _ _ _ _ _ _ _ _ _ 1 _ 1 _ _ _ _ _ _ _ \n",
      "_ _ _ _ _ _ _ _ _ _ _ _ 1 1 _ _ _ _ _ _ _ 1 _ _ _ _ _ _ _ _ _ _ 1 _ _ _ _ _ _ 1 \n",
      "_ _ _ _ _ _ _ _ _ _ _ 1 _ _ 1 _ _ _ _ _ _ _ 1 1 _ _ _ _ _ _ _ _ _ 1 _ _ _ _ _ _ \n",
      "_ _ _ _ _ _ _ 1 _ _ 1 _ _ _ _ _ _ _ _ _ 1 _ _ _ _ _ _ 1 _ _ _ _ _ _ _ _ _ 1 _ _ \n",
      "_ _ _ _ 1 1 _ _ _ 1 _ 1 _ _ _ _ _ _ _ _ _ 1 _ _ _ _ _ _ _ _ _ _ _ _ 1 _ _ _ _ _ \n",
      "_ _ _ _ _ _ _ _ _ 1 _ _ _ _ _ _ _ 1 _ _ _ _ _ _ _ 1 _ _ _ 1 _ _ _ _ _ _ _ 1 _ _ \n",
      "_ 1 _ _ _ _ _ _ _ _ _ _ 1 _ _ _ _ _ _ _ _ _ _ _ 1 _ _ 1 _ _ _ 1 _ _ _ _ _ _ _ _ \n",
      "_ _ _ 1 1 _ _ _ _ _ _ _ _ _ _ 1 _ _ _ _ _ _ _ _ _ 1 _ _ _ 1 _ _ _ 1 _ _ _ 1 1 _ \n",
      "_ _ _ _ _ 1 _ _ _ _ _ 1 _ _ _ _ _ _ _ _ _ _ _ _ _ _ _ _ _ _ _ _ 1 _ _ _ _ _ 1 1 \n",
      "_ _ _ _ _ 1 _ _ 1 _ _ _ _ _ _ _ _ _ _ 1 _ _ _ 1 _ 1 _ _ _ _ _ _ _ _ _ _ _ _ _ _ \n",
      "_ _ 1 _ _ _ _ _ _ 1 _ _ _ _ 1 _ _ _ _ _ _ 1 1 _ _ _ _ _ _ _ _ _ _ _ _ _ _ _ _ _ \n",
      "_ _ _ 1 _ _ _ _ _ _ _ _ _ _ _ _ _ 1 _ 1 _ 1 _ 1 _ _ 1 _ _ _ _ _ _ _ _ _ _ _ _ _ \n",
      "_ _ 1 _ _ _ _ _ _ _ _ 1 _ _ _ 1 1 _ _ _ _ _ _ _ _ _ _ _ _ _ _ _ _ _ 1 _ _ _ _ _ \n",
      "_ _ _ _ _ _ _ 1 _ _ 1 _ _ 1 _ 1 _ _ _ _ _ _ _ _ 1 _ _ _ _ _ _ _ _ _ _ _ _ _ _ _ \n",
      "1 _ _ _ 1 _ _ _ _ _ _ _ _ 1 _ _ _ _ _ _ _ _ _ _ _ 1 1 _ _ _ _ _ _ _ _ _ 1 _ _ _ \n",
      "_ _ _ _ _ _ _ _ _ _ _ _ _ _ _ _ _ _ 1 _ _ _ _ _ _ 1 _ _ _ _ _ 1 _ _ _ 1 1 _ 1 _ \n",
      "_ _ _ _ _ _ 1 _ _ _ _ _ _ _ _ _ 1 _ _ 1 _ _ _ _ _ _ _ _ 1 _ 1 _ _ _ _ _ _ _ _ _ \n",
      "_ _ _ 1 1 _ _ _ _ _ 1 _ _ _ _ _ _ 1 _ _ _ _ _ _ _ _ 1 _ _ 1 _ _ _ _ _ _ _ _ _ _ \n",
      "_ _ _ _ _ _ _ _ 1 _ _ _ 1 1 _ _ _ _ _ _ _ _ _ _ _ _ 1 _ _ _ _ _ _ _ _ 1 _ _ _ 1 \n",
      "_ 1 _ _ _ _ _ _ _ _ 1 1 _ _ 1 _ _ _ 1 _ _ _ _ _ 1 _ _ _ _ _ 1 _ _ _ _ _ _ _ _ _ \n",
      "1 _ 1 _ _ _ _ _ 1 1 _ _ _ _ _ _ _ _ _ _ _ _ _ _ _ _ _ _ _ _ _ _ 1 _ _ _ _ _ _ _ \n",
      "1 _ _ _ _ _ 1 _ _ _ _ _ _ _ _ 1 _ _ _ _ _ _ _ _ _ _ _ _ _ 1 _ _ _ _ _ _ _ _ _ _ \n",
      "_ _ 1 _ _ _ _ _ _ _ _ 1 1 _ _ _ _ _ _ _ 1 _ _ _ _ _ _ _ _ _ _ 1 _ _ _ 1 _ _ _ _ \n",
      "_ 1 _ _ _ _ _ 1 _ _ _ _ _ _ _ _ _ _ _ _ _ _ _ _ _ _ _ _ _ _ _ 1 _ 1 _ _ _ _ _ _ \n"
     ]
    }
   ],
   "source": [
    "print_matrix(data)"
   ]
  },
  {
   "cell_type": "code",
   "execution_count": 38,
   "metadata": {},
   "outputs": [],
   "source": [
    "class Cluster(object):\n",
    "    def __init__(self, vehicles=[], details=[]):\n",
    "        self._vehicles: list = vehicles\n",
    "        self._details: list = details\n",
    "        result = self.get_matrix()\n",
    "        self.N1_in: int = result[1]\n",
    "        self.N0_in: int = result[2]\n",
    "        self.matrix = result[0]\n",
    "    def __repr__(self):\n",
    "        s=\"\"\n",
    "        for m in self.matrix:\n",
    "            s+= str(m).replace(\",\",\" \")[1:-1] +'\\n'\n",
    "        return f\"\\nCustomer {self._vehicles, self._details, self.N1_in, self.N0_in, self.object_function()} \\n{s[:-1]}\"\n",
    "    \n",
    "    def get_matrix(self):\n",
    "        mat = []\n",
    "        for v in self._vehicles:\n",
    "            line = []\n",
    "            for d in self._details:\n",
    "                line.append(data[v][d])\n",
    "            mat.append(line)\n",
    "            N1_in = sum([sum(m) for m in mat])\n",
    "            N0_in = len(self._vehicles)*len(self._details) - N1_in\n",
    "        return mat, N1_in, N0_in\n",
    "    \n",
    "    def object_function(self):\n",
    "        return self.N1_in / (N1 + self.N0_in)\n",
    "    \n",
    "    def delete_vehicle(self,number):\n",
    "        i = self._vehicles.index(number)\n",
    "        n1 = sum(self.matrix[i][:])\n",
    "        n0 = len(self._details) - n1\n",
    "        self.N1_in -= n1\n",
    "        self.N0_in -= n0\n",
    "        self.matrix = self.matrix[:i] + self.matrix[i+1:] \n",
    "        self._vehicles.pop(i)\n",
    "    \n",
    "    def add_vehicle(self,number):\n",
    "        line = []\n",
    "        for d in self._details:\n",
    "            line.append(data[number][d])\n",
    "        n1 = sum(line)\n",
    "        n0 = len(self._details) - n1\n",
    "        self.N1_in += n1\n",
    "        self.N0_in += n0\n",
    "        self.matrix.append(line)\n",
    "        self._vehicles.append(number)\n",
    "        \n",
    "    def delete_detail(self,number):\n",
    "        i = self._details.index(number)\n",
    "        n1 = sum(r[i] for r in self.matrix)\n",
    "        n0 = len(self._vehicles) - n1\n",
    "        self.N1_in -= n1\n",
    "        self.N0_in -= n0\n",
    "        [r.pop(i) for r in self.matrix]\n",
    "        self._details.pop(i)\n",
    "    \n",
    "    def add_detail(self,number):\n",
    "        line = []\n",
    "        for v in self._vehicles:\n",
    "            line.append(data[v][number])\n",
    "        n1 = sum(line)\n",
    "        n0 = len(self._vehicles) - n1\n",
    "        self.N1_in += n1\n",
    "        self.N0_in += n0\n",
    "        [r.append(line.pop(0)) for r in self.matrix]\n",
    "        self._details.append(number)"
   ]
  },
  {
   "cell_type": "code",
   "execution_count": 361,
   "metadata": {},
   "outputs": [],
   "source": [
    "def initial_solution(): \n",
    "    best_sum = 0\n",
    "    K = min(N,M) // 2 \n",
    "    for _ in range(20):\n",
    "        shuffled_vehicle = list(range(N))\n",
    "        shuffled_details = list(range(M))\n",
    "        shuffle(shuffled_vehicle)\n",
    "        shuffle(shuffled_details)\n",
    "        solution = []\n",
    "        for _ in range(K):\n",
    "            veh, det, i = [], [], 0\n",
    "            while (i< N//K) and (len(shuffled_vehicle)>1):\n",
    "                veh.append(shuffled_vehicle.pop(0))\n",
    "                i+=1\n",
    "            i=0\n",
    "            while (i< M//K) and (len(shuffled_details)>1):\n",
    "                det.append(shuffled_details.pop(0))\n",
    "                i+=1\n",
    "            if (len(veh)>0) and (len(det)>0):\n",
    "                solution.append(Cluster(veh, det))\n",
    "        solution.append(Cluster(shuffled_vehicle, shuffled_details))\n",
    "        cur_sum = sum([s.object_function() for s in solution])\n",
    "        if (cur_sum > best_sum):\n",
    "            best_solution = solution\n",
    "            best_sum = cur_sum\n",
    "    return best_solution"
   ]
  },
  {
   "cell_type": "code",
   "execution_count": 362,
   "metadata": {},
   "outputs": [],
   "source": [
    "def is_feasible(solution): #проверка на то, что решение существует\n",
    "    res = get_output(solution)\n",
    "    veh = set(res[0])\n",
    "    det = set(res[1])\n",
    "    if (len(veh - det)==0) and (len(det - veh)==0):\n",
    "        return True\n",
    "    else:\n",
    "        return veh, det"
   ]
  },
  {
   "cell_type": "code",
   "execution_count": 264,
   "metadata": {},
   "outputs": [
    {
     "name": "stdout",
     "output_type": "stream",
     "text": [
      "_ _ _ _ _ 4 _ _ 4 4 4 _ _ _ _ 4 _ _ _ _ \n",
      "1 1 1 _ 1 _ 1 1 _ _ _ _ _ _ _ _ _ _ _ 1 \n",
      "_ _ _ 5 _ _ _ _ _ _ _ _ 5 5 5 _ _ 5 _ _ \n",
      "_ _ _ _ _ 4 _ _ 4 4 4 _ _ _ _ 4 _ _ _ _ \n",
      "_ _ _ 5 _ _ _ _ _ _ _ _ 5 5 5 _ _ 5 _ _ \n",
      "_ _ _ _ _ _ _ _ _ _ _ _ _ _ _ _ _ _ 2 _ \n",
      "_ _ _ _ _ 4 _ _ 4 4 4 _ _ _ _ 4 _ _ _ _ \n",
      "_ _ _ 5 _ _ _ _ _ _ _ _ 5 5 5 _ _ 5 _ _ \n",
      "_ _ _ _ _ 4 _ _ 4 4 4 _ _ _ _ 4 _ _ _ _ \n",
      "_ _ _ _ _ 4 _ _ 4 4 4 _ _ _ _ 4 _ _ _ _ \n",
      "_ _ _ 5 _ _ _ _ _ _ _ _ 5 5 5 _ _ 5 _ _ \n",
      "_ _ _ _ _ _ _ _ _ _ _ 3 _ _ _ _ 3 _ _ _ \n",
      "_ _ _ _ _ 4 _ _ 4 4 4 _ _ _ _ 4 _ _ _ _ \n",
      "_ _ _ 5 _ _ _ _ _ _ _ _ 5 5 5 _ _ 5 _ _ \n",
      "1 1 1 _ 1 _ 1 1 _ _ _ _ _ _ _ _ _ _ _ 1 \n",
      "_ _ _ _ _ 4 _ _ 4 4 4 _ _ _ _ 4 _ _ _ _ \n",
      "_ _ _ 5 _ _ _ _ _ _ _ _ 5 5 5 _ _ 5 _ _ \n",
      "1 1 1 _ 1 _ 1 1 _ _ _ _ _ _ _ _ _ _ _ 1 \n",
      "_ _ _ 5 _ _ _ _ _ _ _ _ 5 5 5 _ _ 5 _ _ \n",
      "1 1 1 _ 1 _ 1 1 _ _ _ _ _ _ _ _ _ _ _ 1 \n"
     ]
    }
   ],
   "source": [
    "def get_solution_matrix(solution): #функция дальше не используется, но она помогает визуализировать распределение кластеров\n",
    "    solution_matrix = [['_']*N for _ in range(M)]\n",
    "    for i in range(len(solution)):\n",
    "        for v in solution[i]._vehicles:\n",
    "            for d in solution[i]._details:\n",
    "                solution_matrix[v][d] = i + 1\n",
    "    print_matrix(solution_matrix)\n",
    "get_solution_matrix(best_sol)"
   ]
  },
  {
   "cell_type": "code",
   "execution_count": 260,
   "metadata": {},
   "outputs": [],
   "source": [
    "def get_output(solution, k=0): #преобразование решения в итоговый вариант\n",
    "    vehicle = ['_'] * N\n",
    "    details = ['_'] * M\n",
    "    for i in range(len(solution)):\n",
    "        for v in solution[i]._vehicles:\n",
    "            vehicle[v] = i+k\n",
    "        for d in solution[i]._details:\n",
    "            details[d] = i+k\n",
    "    return vehicle, details"
   ]
  },
  {
   "cell_type": "code",
   "execution_count": 262,
   "metadata": {},
   "outputs": [
    {
     "data": {
      "text/plain": [
       "([4, 1, 5, 4, 5, 2, 4, 5, 4, 4, 5, 3, 4, 5, 1, 4, 5, 1, 5, 1],\n",
       " [1, 1, 1, 5, 1, 4, 1, 1, 4, 4, 4, 3, 5, 5, 5, 4, 3, 5, 2, 1])"
      ]
     },
     "execution_count": 262,
     "metadata": {},
     "output_type": "execute_result"
    }
   ],
   "source": [
    "get_output(solution,1)"
   ]
  },
  {
   "cell_type": "code",
   "execution_count": 203,
   "metadata": {},
   "outputs": [],
   "source": [
    "def exchange_vehicle(solution): \n",
    "    #функция для LS, позволяющая переместить строку в другой класс (перебирает все строки всех классов)\n",
    "    best_sum = sum([s.object_function() for s in solution])\n",
    "    best_sol = copy.deepcopy(solution)\n",
    "    for cluster in solution:\n",
    "        first_cluster = copy.deepcopy(cluster)\n",
    "        if len(cluster._vehicles)>1:\n",
    "            for vehicle in cluster._vehicles:\n",
    "                for c in solution:\n",
    "                    if (c._vehicles == cluster._vehicles) :\n",
    "                        continue\n",
    "                    second_cluster = copy.deepcopy(c)\n",
    "                    c.add_vehicle(vehicle)\n",
    "                    cluster.delete_vehicle(vehicle)\n",
    "                    if (first_cluster.object_function() + second_cluster.object_function() \\\n",
    "                                    < cluster.object_function() + c.object_function()):\n",
    "                        cur_sum = sum([s.object_function() for s in solution])\n",
    "                        if (cur_sum > best_sum):\n",
    "                            best_sol = copy.deepcopy(solution)\n",
    "                            best_sum = copy.deepcopy(cur_sum)\n",
    "                    cluster.add_vehicle(vehicle)\n",
    "                    c.delete_vehicle(vehicle) \n",
    "    solution = (best_sol)\n",
    "    return copy.deepcopy(solution), best_sum"
   ]
  },
  {
   "cell_type": "code",
   "execution_count": 204,
   "metadata": {},
   "outputs": [],
   "source": [
    "def exchange_detail(solution):\n",
    "    #функция для LS, позволяющая переместить столбец в другой класс (перебирает все строки всех классов)\n",
    "    best_sum = sum([s.object_function() for s in solution])\n",
    "    best_sol = copy.deepcopy(solution)\n",
    "    for cluster in solution:\n",
    "        first_cluster = copy.deepcopy(cluster)\n",
    "        if len(cluster._details)>1:\n",
    "            for detail in cluster._details:\n",
    "                for c in solution:\n",
    "                    if (c._vehicles == cluster._vehicles) :\n",
    "                        continue\n",
    "                    second_cluster = copy.deepcopy(c)\n",
    "                    c.add_detail(detail)\n",
    "                    cluster.delete_detail(detail)\n",
    "                    if (first_cluster.object_function() + second_cluster.object_function() \\\n",
    "                                    < cluster.object_function() + c.object_function()):\n",
    "                        cur_sum = sum([s.object_function() for s in solution])\n",
    "                        if (cur_sum > best_sum):\n",
    "                            best_sol = copy.deepcopy(solution)\n",
    "                            best_sum = copy.deepcopy(cur_sum)\n",
    "                    cluster.add_detail(detail)\n",
    "                    c.delete_detail(detail) \n",
    "    solution = (best_sol)\n",
    "    return copy.deepcopy(solution), best_sum"
   ]
  },
  {
   "cell_type": "code",
   "execution_count": 483,
   "metadata": {},
   "outputs": [],
   "source": [
    "def local_search(solution):#local search, улучшающий решение\n",
    "    best_sum = sum([s.object_function() for s in solution])\n",
    "    print(\"INITIAL \", best_sum)\n",
    "    old_sum = 0\n",
    "    step = 0\n",
    "    while(True):\n",
    "        while best_sum - old_sum > 0.0001 :\n",
    "            old_sum = copy.deepcopy(best_sum)\n",
    "            step += 1\n",
    "            solution, best_sum = exchange_vehicle(solution)\n",
    "#             print(\"STEP:{} ADD_VEH_SUM :{}\".format(step, best_sum))\n",
    "        old_sum = copy.deepcopy(best_sum)\n",
    "        solution, best_sum = exchange_detail(solution)\n",
    "        if best_sum - old_sum > 0.0001 :\n",
    "#             print(\"IMPROVING ADD_DET_SUM :{}\".format(best_sum))\n",
    "            continue\n",
    "        else:\n",
    "            print(\"END AT :{}\".format(best_sum))\n",
    "            break\n",
    "    return copy.deepcopy(solution), best_sum    "
   ]
  },
  {
   "cell_type": "code",
   "execution_count": 171,
   "metadata": {},
   "outputs": [],
   "source": [
    "def merge_clusters(cl1,cl2):\n",
    "    return Cluster(cl1._vehicles + cl2._vehicles, cl1._details + cl2._details)"
   ]
  },
  {
   "cell_type": "code",
   "execution_count": 197,
   "metadata": {},
   "outputs": [],
   "source": [
    "def split_cluster(cl):\n",
    "    #предполагаем, что кластер разбивается на два равных по длине кластера\n",
    "    shuffle(cl._vehicles)\n",
    "    shuffle(cl._details)\n",
    "    veh_len = len(cl._vehicles) // 2\n",
    "    det_len = len(cl._details) // 2\n",
    "    c1 = Cluster(cl._vehicles[:veh_len], cl._details[:det_len])\n",
    "    c2 = Cluster(cl._vehicles[veh_len:], cl._details[det_len:])\n",
    "    return c1,c2"
   ]
  },
  {
   "cell_type": "code",
   "execution_count": 290,
   "metadata": {},
   "outputs": [],
   "source": [
    "def nice_view(sol,name): #функция для записи ответа в файл\n",
    "    file = open(name, 'w+')\n",
    "    res = get_output(sol)\n",
    "    file.write(str(res[0])[1:-1].replace(', ', ' ') + \"\\n\")\n",
    "    file.write(str(res[1])[1:-1].replace(', ', ' ') + \"\\n\")\n",
    "    print(res[0])\n",
    "    print(res[1])\n",
    "    file.close()\n",
    "    total_file = open('VNS_total.txt', 'a+')\n",
    "    total_file.write(name[:-4] + ' ' + str(sum([s.object_function() for s in sol]))+ \"\\n\")\n",
    "    print(name[:-4] + ' ' + str(sum([s.object_function() for s in sol]))+ \"\\n\")\n",
    "    total_file.close()"
   ]
  },
  {
   "cell_type": "code",
   "execution_count": 486,
   "metadata": {},
   "outputs": [
    {
     "name": "stdout",
     "output_type": "stream",
     "text": [
      "INITIAL  0.1274862491673175\n",
      "END AT :0.4195197998733555\n",
      "INITIAL  0.431029342961846\n",
      "END AT :0.45451187481162075\n",
      "INITIAL  0.45700327653966377\n",
      "END AT :0.4693335143103501\n",
      "INITIAL  0.4546869404907534\n",
      "END AT :0.4853257112158269\n",
      "INITIAL  0.48328951212080423\n",
      "END AT :0.49155226699065085\n",
      "INITIAL  0.4926299332857085\n",
      "END AT :0.5032710598905872\n",
      "INITIAL  0.4726782017007328\n",
      "END AT :0.49586778560621314\n",
      "INITIAL  0.4485542424420755\n",
      "END AT :0.5131707599143736\n",
      "INITIAL  0.5131707599143736\n",
      "END AT :0.5131707599143736\n",
      "INITIAL  0.4903287164616431\n",
      "END AT :0.5000964518951212\n",
      "0.5131707599143736\n"
     ]
    }
   ],
   "source": [
    "#MAIN FUNCTION\n",
    "#вся магия здесь\n",
    "solution = initial_solution()\n",
    "best_sum = sum([s.object_function() for s in solution])\n",
    "best_sol = copy.deepcopy(solution)\n",
    "while (True):\n",
    "    solution, cur_sum = copy.deepcopy(local_search(solution))  \n",
    "    if cur_sum > best_sum:\n",
    "        best_sum = copy.deepcopy(cur_sum)\n",
    "        best_sol = copy.deepcopy(solution)\n",
    "#         print(\"\\tSHAKING MERGE AT \", best_sum)\n",
    "        #merge\n",
    "        if len(solution)>1: #слить 2 кластера можно только если их как минимум 2 в решении\n",
    "            i = randint(0, len(solution)-2)\n",
    "            j = randint(i+1, len(solution)-1)\n",
    "            cl = merge_clusters(solution.pop(i), solution.pop(j-1))\n",
    "            solution.append(cl)\n",
    "            continue\n",
    "    else:   \n",
    "    #split\n",
    "        solution = copy.deepcopy(best_sol)\n",
    "        i = randint(0, len(solution)-1)\n",
    "        k = 0\n",
    "        while (len(solution[i]._vehicles)<2 or len(solution[i]._details)<2): \n",
    "            #разбить кластер можно только если в нем больше 2 строк и 2 столбцов\n",
    "            i = randint(0, len(solution)-1)\n",
    "            k +=1\n",
    "            if k > len(solution):\n",
    "                break\n",
    "        else:\n",
    "            cls = split_cluster(solution.pop(i))\n",
    "            solution += cls\n",
    "        solution, cur_sum = copy.deepcopy(local_search(solution))\n",
    "        if cur_sum > best_sum:\n",
    "            best_sum = copy.deepcopy(cur_sum)\n",
    "            best_sol = copy.deepcopy(solution)\n",
    "#             print(\"\\tSHAKING SPLIT IMPROVED TO \", best_sum)\n",
    "            continue\n",
    "        else:\n",
    "            solution = copy.deepcopy(best_sol)\n",
    "            break\n",
    "print(best_sum)"
   ]
  },
  {
   "cell_type": "code",
   "execution_count": 487,
   "metadata": {},
   "outputs": [],
   "source": [
    "BSOL = best_sol\n",
    "BSUM = best_sum"
   ]
  },
  {
   "cell_type": "code",
   "execution_count": 488,
   "metadata": {},
   "outputs": [
    {
     "data": {
      "text/plain": [
       "True"
      ]
     },
     "execution_count": 488,
     "metadata": {},
     "output_type": "execute_result"
    }
   ],
   "source": [
    "is_feasible(BSOL)"
   ]
  },
  {
   "cell_type": "code",
   "execution_count": 489,
   "metadata": {},
   "outputs": [
    {
     "data": {
      "text/plain": [
       "([1, 6, 0, 8, 4, 3, 7, 3, 4, 5, 0, 5, 4, 8, 2, 2, 6, 5, 2, 7, 1, 3, 4, 7],\n",
       " [1,\n",
       "  7,\n",
       "  4,\n",
       "  5,\n",
       "  3,\n",
       "  4,\n",
       "  6,\n",
       "  8,\n",
       "  1,\n",
       "  0,\n",
       "  8,\n",
       "  4,\n",
       "  6,\n",
       "  2,\n",
       "  0,\n",
       "  3,\n",
       "  1,\n",
       "  5,\n",
       "  1,\n",
       "  5,\n",
       "  8,\n",
       "  6,\n",
       "  0,\n",
       "  5,\n",
       "  7,\n",
       "  2,\n",
       "  2,\n",
       "  8,\n",
       "  6,\n",
       "  3,\n",
       "  6,\n",
       "  7,\n",
       "  1,\n",
       "  3,\n",
       "  4,\n",
       "  2,\n",
       "  2,\n",
       "  3,\n",
       "  3,\n",
       "  6])"
      ]
     },
     "execution_count": 489,
     "metadata": {},
     "output_type": "execute_result"
    }
   ],
   "source": [
    "get_output(BSOL)"
   ]
  },
  {
   "cell_type": "code",
   "execution_count": 478,
   "metadata": {},
   "outputs": [
    {
     "name": "stdout",
     "output_type": "stream",
     "text": [
      "[1, 0, 1, 2, 0, 1, 1, 2, 1, 1, 2, 0, 2, 2, 2, 1, 2, 2, 2, 2, 2, 1, 2, 1, 1, 2, 1, 1, 0, 1, 2, 1, 2, 0, 2, 0, 0]\n",
      "[2, 2, 2, 2, 2, 2, 2, 2, 2, 2, 2, 2, 2, 2, 2, 2, 2, 2, 2, 2, 2, 2, 2, 2, 2, 1, 1, 1, 1, 1, 1, 1, 0, 1, 1, 1, 1, 1, 1, 1, 2, 2, 2, 2, 2, 2, 2, 2, 2, 2, 2, 2, 2]\n",
      "37x53 0.6289532711953234\n",
      "\n"
     ]
    }
   ],
   "source": [
    "nice_view(BSOL, '24x40.sol')"
   ]
  },
  {
   "cell_type": "code",
   "execution_count": null,
   "metadata": {},
   "outputs": [],
   "source": []
  }
 ],
 "metadata": {
  "kernelspec": {
   "display_name": "Python 3",
   "language": "python",
   "name": "python3"
  },
  "language_info": {
   "codemirror_mode": {
    "name": "ipython",
    "version": 3
   },
   "file_extension": ".py",
   "mimetype": "text/x-python",
   "name": "python",
   "nbconvert_exporter": "python",
   "pygments_lexer": "ipython3",
   "version": "3.7.0"
  }
 },
 "nbformat": 4,
 "nbformat_minor": 2
}
