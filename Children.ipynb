{
 "cells": [
  {
   "cell_type": "markdown",
   "metadata": {},
   "source": [
    "# Задача 1"
   ]
  },
  {
   "cell_type": "markdown",
   "metadata": {},
   "source": [
    "Прошло n минут. Какое время будут показывать электронные часы?"
   ]
  },
  {
   "cell_type": "code",
   "execution_count": 15,
   "metadata": {},
   "outputs": [
    {
     "name": "stdout",
     "output_type": "stream",
     "text": [
      "1111000\n",
      "12  часов\n",
      "40  минут\n"
     ]
    }
   ],
   "source": [
    "n = int(input()) \n",
    "print( (n//60) % 24, \" часов\")\n",
    "print(n%60, \" минут\")\n",
    "\n"
   ]
  },
  {
   "cell_type": "markdown",
   "metadata": {},
   "source": [
    "# Задача 2"
   ]
  },
  {
   "cell_type": "markdown",
   "metadata": {},
   "source": [
    "Действительное число Х. Вывести первую цифру после десятичной точки."
   ]
  },
  {
   "cell_type": "code",
   "execution_count": 28,
   "metadata": {},
   "outputs": [
    {
     "name": "stdout",
     "output_type": "stream",
     "text": [
      "5.666666\n"
     ]
    },
    {
     "data": {
      "text/plain": [
       "6"
      ]
     },
     "execution_count": 28,
     "metadata": {},
     "output_type": "execute_result"
    }
   ],
   "source": [
    "X = float(input())\n",
    "X = int(X*10)%10\n",
    "X"
   ]
  },
  {
   "cell_type": "markdown",
   "metadata": {},
   "source": [
    "# Задача 3"
   ]
  },
  {
   "cell_type": "markdown",
   "metadata": {},
   "source": [
    "Вывести каждую цифру заданного 4-значного числа "
   ]
  },
  {
   "cell_type": "code",
   "execution_count": 32,
   "metadata": {},
   "outputs": [
    {
     "name": "stdout",
     "output_type": "stream",
     "text": [
      "1234\n",
      "1 2 3 4\n"
     ]
    }
   ],
   "source": [
    "X = int(input())\n",
    "X1 = X // 1000 #первый символ    _ | _ _ _\n",
    "X2 = (X // 100) % 10 # второй символ _ | _ | _ _\n",
    "X3 = (X % 100) // 10 #третий символ _ _ | _ | _\n",
    "X4 = X % 10 # четвертый сивол _ _ _ | _\n",
    "print (X1, X2, X3, X4)"
   ]
  },
  {
   "cell_type": "markdown",
   "metadata": {},
   "source": [
    "# Задача 4"
   ]
  },
  {
   "cell_type": "markdown",
   "metadata": {},
   "source": [
    "Занятия начинаются в 8:00. Продолжительность урока - 80 минут. После 1,3,5 уроков и т д перемена 10 минут. После 2,4,6 и т д 20 минут.\n",
    "Дан номер урока. Определить, когда он заканчивается"
   ]
  },
  {
   "cell_type": "code",
   "execution_count": 42,
   "metadata": {},
   "outputs": [
    {
     "name": "stdout",
     "output_type": "stream",
     "text": [
      "2\n",
      "10 : 50\n"
     ]
    }
   ],
   "source": [
    "n = int(input())\n",
    "time = 8*60 + n*80 + ((n-1)%2)*10 + ((n-1)//2)*20\n",
    "print(time//60, \":\", time%60)"
   ]
  },
  {
   "cell_type": "markdown",
   "metadata": {},
   "source": [
    "# Задача 5"
   ]
  },
  {
   "cell_type": "markdown",
   "metadata": {},
   "source": [
    "В книге k строк. По номеру строки в тексте определить номер страницы, где будет напечатана строка, и ее номер. "
   ]
  },
  {
   "cell_type": "code",
   "execution_count": 40,
   "metadata": {},
   "outputs": [
    {
     "name": "stdout",
     "output_type": "stream",
     "text": [
      "56\n",
      "5 страница 6 строка\n"
     ]
    }
   ],
   "source": [
    "k=10\n",
    "n=int(input())\n",
    "print(n//k, \"страница\", n%k, \"строка\")"
   ]
  },
  {
   "cell_type": "markdown",
   "metadata": {},
   "source": [
    "# Задача 6"
   ]
  },
  {
   "cell_type": "markdown",
   "metadata": {},
   "source": [
    "Единица товара стоит A рублей, В копеек. Было куплено n штук. Сколько потратили на всю покупку?"
   ]
  },
  {
   "cell_type": "code",
   "execution_count": 44,
   "metadata": {},
   "outputs": [
    {
     "name": "stdout",
     "output_type": "stream",
     "text": [
      "9\n",
      "91 рублей 80 копеек\n"
     ]
    }
   ],
   "source": [
    "A = 10\n",
    "B = 20\n",
    "n = int(input())\n",
    "summa = (A*100+B) * n\n",
    "print (summa//100, 'рублей', summa%100, 'копеек')"
   ]
  },
  {
   "cell_type": "markdown",
   "metadata": {},
   "source": [
    "# Задача 7"
   ]
  },
  {
   "cell_type": "markdown",
   "metadata": {},
   "source": [
    "Выдать 1, если m>n, и любое другое число в ином случае. "
   ]
  },
  {
   "cell_type": "code",
   "execution_count": 6,
   "metadata": {},
   "outputs": [
    {
     "name": "stdout",
     "output_type": "stream",
     "text": [
      "m=5\n",
      "n=2\n",
      "1\n"
     ]
    }
   ],
   "source": [
    "m=int(input('m='))\n",
    "n=int(input('n='))\n",
    "print(n//m+1)"
   ]
  },
  {
   "cell_type": "code",
   "execution_count": 7,
   "metadata": {},
   "outputs": [
    {
     "name": "stdout",
     "output_type": "stream",
     "text": [
      "m=4\n",
      "n=10\n",
      "3\n"
     ]
    }
   ],
   "source": [
    "m=int(input('m='))\n",
    "n=int(input('n='))\n",
    "print(n//m+1)"
   ]
  },
  {
   "cell_type": "markdown",
   "metadata": {},
   "source": [
    "# Задача 8\n",
    "Еще немного про вывод"
   ]
  },
  {
   "cell_type": "code",
   "execution_count": 16,
   "metadata": {},
   "outputs": [
    {
     "name": "stdout",
     "output_type": "stream",
     "text": [
      "Привет Вася! Как дела?\n",
      "Привет Вася! Как дела?\n"
     ]
    }
   ],
   "source": [
    "s = \"Вася\"\n",
    "print(\"Привет %s! Как дела?\" % s)\n",
    "print(\"Привет \" + s + \"! Как дела?\")"
   ]
  },
  {
   "cell_type": "code",
   "execution_count": 19,
   "metadata": {},
   "outputs": [
    {
     "name": "stdout",
     "output_type": "stream",
     "text": [
      "Мне 20 лет\n",
      "Мне 20 лет\n"
     ]
    }
   ],
   "source": [
    "age = 20\n",
    "print (\"Мне %d лет\" % age)\n",
    "print (\"Мне \" +  str(age) + \" лет\")"
   ]
  },
  {
   "cell_type": "code",
   "execution_count": 20,
   "metadata": {},
   "outputs": [
    {
     "name": "stdout",
     "output_type": "stream",
     "text": [
      "Привет, ребята. Меня зовут 'Галя' и мне 20 лет\n"
     ]
    }
   ],
   "source": [
    "s = \"Галя\"\n",
    "age = 20\n",
    "print(\"Привет, ребята. Меня зовут %r и мне %r лет.\" % (s, age))"
   ]
  },
  {
   "cell_type": "code",
   "execution_count": 21,
   "metadata": {},
   "outputs": [
    {
     "name": "stdout",
     "output_type": "stream",
     "text": [
      "Привет, ребята. Меня зовут Галя и мне 20 лет\n"
     ]
    }
   ],
   "source": [
    "s = \"Галя\"\n",
    "age = 20\n",
    "print(\"Привет, ребята. Меня зовут %s и мне %d лет\" % (s, age))"
   ]
  },
  {
   "cell_type": "code",
   "execution_count": null,
   "metadata": {},
   "outputs": [],
   "source": []
  }
 ],
 "metadata": {
  "kernelspec": {
   "display_name": "Python 3",
   "language": "python",
   "name": "python3"
  },
  "language_info": {
   "codemirror_mode": {
    "name": "ipython",
    "version": 3
   },
   "file_extension": ".py",
   "mimetype": "text/x-python",
   "name": "python",
   "nbconvert_exporter": "python",
   "pygments_lexer": "ipython3",
   "version": "3.7.1"
  }
 },
 "nbformat": 4,
 "nbformat_minor": 2
}
